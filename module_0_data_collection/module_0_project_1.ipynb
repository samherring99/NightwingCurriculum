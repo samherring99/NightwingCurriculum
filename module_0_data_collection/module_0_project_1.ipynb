{
 "cells": [
  {
   "cell_type": "markdown",
   "metadata": {},
   "source": [
    "# Module 0 Project 1: Data Collection\n",
    "\n",
    "- Implement a data collection pipeline from a sample source\n",
    "- The goal of this project is to learn the basic steps for finding a data source and loading it into our code for further analysis\n",
    "- This project simply collects and displays the data shown. Preprocessing comes in the next module"
   ]
  },
  {
   "cell_type": "markdown",
   "metadata": {},
   "source": [
    "## STEP 1: DATA ACCESS\n",
    "- Find a data source (Kaggle, Wikipedia, web scraping, etc.)\n",
    "- Get access to the [data](https://www.gutenberg.org/cache/epub/2554/)\n",
    "- Here we are using Crime and Punishment by Dostoevsky (from Project Gutenberg)"
   ]
  },
  {
   "cell_type": "code",
   "execution_count": null,
   "metadata": {},
   "outputs": [],
   "source": [
    "import requests\n",
    "import os\n",
    "import re\n",
    "import pandas as pd\n",
    "\n",
    "# Project Gutenberg Crime And Punishment\n",
    "resp = requests.get(\"https://www.gutenberg.org/cache/epub/2554/pg2554.txt\")"
   ]
  },
  {
   "cell_type": "markdown",
   "metadata": {},
   "source": [
    "## STEP 2: INITIAL DATA COLLECTION\n",
    "- Perform initial collection steps like filtering and saving to a file\n",
    "- Using regex to extract important text from the response - we know the book starts and ends with the below markers\n",
    "- Open the text and write it to a file"
   ]
  },
  {
   "cell_type": "code",
   "execution_count": null,
   "metadata": {},
   "outputs": [],
   "source": [
    "# Tags for text filtering\n",
    "start = \"*** START OF THE PROJECT GUTENBERG EBOOK CRIME AND PUNISHMENT ***\"\n",
    "end = \"*** END OF THE PROJECT GUTENBERG EBOOK CRIME AND PUNISHMENT ***\"\n",
    "\n",
    "# Grab the text body from the document\n",
    "pattern = re.compile(f\"{re.escape(start)}(.*?)\\n{re.escape(end)}\", re.DOTALL)\n",
    "text = pattern.findall(resp.text)\n",
    "result = \"\\n\".join(text)\n",
    "\n",
    "# Save the text body to a local file\n",
    "if not os.path.exists(\"./crime_and_punishment.txt\"):\n",
    "    with open(\"crime_and_punishment.txt\", \"w\") as file:\n",
    "        file.write(result)"
   ]
  },
  {
   "cell_type": "markdown",
   "metadata": {},
   "source": [
    "## STEP 3: BASIC DATA ORGANIZATION\n",
    "- Peform steps here to extract important info from the collected data\n",
    "- We are just using a dicitonary here to perform a simple word count"
   ]
  },
  {
   "cell_type": "code",
   "execution_count": null,
   "metadata": {},
   "outputs": [],
   "source": [
    "# Function to get the count of all words in a given text body\n",
    "def count_words(text):\n",
    "    words = re.findall(r'\\b\\w+\\b', text.lower())\n",
    "    word_count = {}\n",
    "    for word in words:\n",
    "        if word in word_count:\n",
    "            word_count[word] += 1\n",
    "        else:\n",
    "            word_count[word] = 1\n",
    "    return word_count"
   ]
  },
  {
   "cell_type": "markdown",
   "metadata": {},
   "source": [
    "## STEP 4: DISPLAY OUTPUTS\n",
    "- Display collected data points from the data source\n",
    "- We now should have a 'usable' dataset of values from a given data source to perform further analysis and training\n",
    "- We have put the data in a labeled pandas DataFrame to easily sort and index the values"
   ]
  },
  {
   "cell_type": "code",
   "execution_count": null,
   "metadata": {},
   "outputs": [],
   "source": [
    "# Get the word counts, put it in a Pandas dataframe, and sort by count\n",
    "word_count = count_words(result)\n",
    "df = pd.DataFrame(list(word_count.items()), columns=['Word', 'Count'])\n",
    "sorted_df = df.sort_values(by='Count', ascending=False)\n",
    "\n",
    "# Print the result\n",
    "print(sorted_df)\n",
    "print(sorted_df.describe())"
   ]
  }
 ],
 "metadata": {
  "kernelspec": {
   "display_name": "Python 3",
   "language": "python",
   "name": "python3"
  },
  "language_info": {
   "name": "python",
   "version": "3.9.13"
  },
  "orig_nbformat": 4
 },
 "nbformat": 4,
 "nbformat_minor": 2
}
